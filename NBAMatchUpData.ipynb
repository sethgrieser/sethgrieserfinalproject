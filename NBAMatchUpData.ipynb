{
 "cells": [
  {
   "cell_type": "code",
   "execution_count": 1,
   "metadata": {},
   "outputs": [
    {
     "name": "stdout",
     "output_type": "stream",
     "text": [
      "Lakers Points Mean  113.84615384615384\n",
      "Lakers Points SD  11.692987707958197\n",
      "Memphis Points Mean  112.45454545454545\n",
      "Memphis Points SD  11.380390446434019\n"
     ]
    }
   ],
   "source": [
    "# NBAMatchupData.py\n",
    "# This program will import the statistics of every team\n",
    "# During the 2019-2020 NBA season\n",
    "# Then will use these statistics to simulate a game between two teams \n",
    "# That can be used to simulate the entire 2020 NBA postseason\n",
    "# Use of NBA data permitted by fair use, being for educational purposes\n",
    "# Seth Grieser \n",
    "# SES350 Final Project\n",
    "\n",
    "import numpy as np\n",
    "import pandas as pd \n",
    "import random as rnd \n",
    "import matplotlib.pyplot as plt\n",
    "from scipy import integrate\n",
    "from scipy import optimize \n",
    "from scipy import ndimage\n",
    "from pylab import *\n",
    "from scipy.integrate import odeint\n",
    "\n",
    "gdf = pd.read_csv('nba2020.csv')                           # Read in NBA 2019-2020 Regular Season statistics \n",
    "gdf.columns                                                # Sort excel data by columns \n",
    "\n",
    "\n",
    "lal = gdf[gdf.Team == 'LAL']                                # Assigns lal for Lakers Team Data\n",
    "mem = gdf[gdf.Team == 'MEM']                                # Same, but mem for Memphis Team Data\n",
    "\n",
    "\n",
    "lal.Pts.hist()                                              # Creates a histogram of Lakers PPG vs. Mem PPG \n",
    "mem.Pts.hist()                                              # By amount of games it occurs for each team\n",
    "\n",
    "lalmeanpts = lal.Pts.mean()                                 # Mean of PPG for each team\n",
    "memmeanpts = mem.Pts.mean()\n",
    "lalpts = lal.Pts.std()                                      # SD of PPG for each team\n",
    "mempts = mem.Pts.std()\n",
    "\n",
    "rnd.gauss(110, 15)                                      # Assigns random gaussian distribtion of 110 PPG\n",
    "                                                           # And a SD of 15 points, roughly league averages \n",
    "\n",
    "\n",
    "print(\"Lakers Points Mean \", lalmeanpts)\n",
    "print(\"Lakers Points SD \", lalpts)\n",
    "print(\"Memphis Points Mean \", memmeanpts)\n",
    "print(\"Memphis Points SD \", mempts)\n",
    "\n"
   ]
  },
  {
   "cell_type": "code",
   "execution_count": null,
   "metadata": {},
   "outputs": [],
   "source": []
  }
 ],
 "metadata": {
  "kernelspec": {
   "display_name": "Python 3",
   "language": "python",
   "name": "python3"
  },
  "language_info": {
   "codemirror_mode": {
    "name": "ipython",
    "version": 3
   },
   "file_extension": ".py",
   "mimetype": "text/x-python",
   "name": "python",
   "nbconvert_exporter": "python",
   "pygments_lexer": "ipython3",
   "version": "3.7.4"
  }
 },
 "nbformat": 4,
 "nbformat_minor": 2
}
