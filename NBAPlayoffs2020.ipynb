{
 "cells": [
  {
   "cell_type": "code",
   "execution_count": 52,
   "metadata": {},
   "outputs": [
    {
     "name": "stdout",
     "output_type": "stream",
     "text": [
      "Bucks Points Mean  118.62121212121212\n",
      "Bucks Points SD  11.693213220977178\n",
      "Clippers Points Mean  116.5\n",
      "Clippers Points SD  14.180430719291124\n",
      "MIL Win  0.7142857142857143 %\n",
      "LAC Win  0.2857142857142857 %\n",
      "Tie  0.0 %\n"
     ]
    },
    {
     "data": {
      "text/plain": [
       "[-1, 1, 1, -1, 1, 1, 1]"
      ]
     },
     "execution_count": 52,
     "metadata": {},
     "output_type": "execute_result"
    },
    {
     "data": {
      "image/png": "[encoded data removed]",
      "text/plain": [
       "<Figure size 432x288 with 1 Axes>"
      ]
     },
     "metadata": {
      "needs_background": "light"
     },
     "output_type": "display_data"
    }
   ],
   "source": [
    "# NBAPlayoffs2020.py\n",
    "# This program will import the statistics of every team\n",
    "# During the 2019-2020 NBA season\n",
    "# Then will use these statistics to simulate a game between two teams \n",
    "# That can be used to simulate the entire 2020 NBA postseason\n",
    "# Use of NBA data permitted by fair use, being for educational purposes\n",
    "# Seth Grieser \n",
    "# SES350 Final Project\n",
    "\n",
    "import numpy as np\n",
    "import pandas as pd \n",
    "import random as rnd \n",
    "import matplotlib.pyplot as plt\n",
    "from scipy import integrate\n",
    "from scipy import optimize \n",
    "from scipy import ndimage\n",
    "from pylab import *\n",
    "from scipy.integrate import odeint\n",
    "\n",
    "gdf = pd.read_csv('nba2020.csv')                           # Read in NBA 2019-2020 Regular Season statistics \n",
    "gdf.columns                                                # Sort excel data by columns \n",
    "\n",
    "\n",
    "\n",
    "mil = gdf[gdf.Team == 'MIL']                                # Assigns mil for Bucks Team Data \n",
    "lac = gdf[gdf.Team == 'LAC']                                # Same, but lac for Clippers Team Data\n",
    "\n",
    "\n",
    "mil.Pts.hist()                                              # Creates a histogram of Lakers PPG vs. Mem PPG \n",
    "lac.Pts.hist()                                              # By amount of games it occurs for each team\n",
    "milmeanpts = mil.Pts.mean()                                 # Mean of PPG for each team\n",
    "lacmeanpts = lac.Pts.mean()\n",
    "milpts = mil.Pts.std()                                      # SD of PPG for each team\n",
    "lacpts = lac.Pts.std()\n",
    "\n",
    "rnd.gauss(110, 15)                                         # Assigns random gaussian distribtion of 110 PPG\n",
    "                                                           # And a SD of 15 points, roughly league averages \n",
    "\n",
    "\n",
    "print(\"Bucks Points Mean \", milmeanpts)\n",
    "print(\"Bucks Points SD \", milpts)\n",
    "print(\"Clippers Points Mean \", lacmeanpts)\n",
    "print(\"Clippers Points SD \", lacpts)\n",
    "\n",
    "\n",
    "\n",
    "def gameSim():                                           # Simulates a game based on MIL PPG vs. LAC PPG\n",
    "    MILScore = (rnd.gauss(milmeanpts,milpts)) \n",
    "    LACScore = (rnd.gauss(lacmeanpts,lacpts))            # Uses the random gaussian distribution\n",
    "    if int(round(MILScore)) > int(round(LACScore)):\n",
    "        return 1\n",
    "    elif int(round(MILScore)) < int(round(LACScore)):\n",
    "        return -1\n",
    "    else: return 0\n",
    "\n",
    "def gamesSim(ns):                                       # Assigns one team wins, and other loses \n",
    "    gamesout = []\n",
    "    team1win = 0\n",
    "    team2win = 0\n",
    "    tie = 0\n",
    "    for i in range(ns):\n",
    "        gm = gameSim()\n",
    "        gamesout.append(gm)\n",
    "        if gm == 1:\n",
    "            team1win +=1 \n",
    "        elif gm == -1:\n",
    "            team2win +=1\n",
    "        else: tie +=1 \n",
    "    print('MIL Win ', team1win/(team1win+team2win+tie),'%')\n",
    "    print('LAC Win ', team2win/(team1win+team2win+tie),'%')\n",
    "    print('Tie ', tie/(team1win+team2win+tie), '%')\n",
    "    return gamesout\n",
    "\n",
    "gamesSim(7)                                             # Simulates 7 games "
   ]
  },
  {
   "cell_type": "code",
   "execution_count": null,
   "metadata": {},
   "outputs": [],
   "source": []
  }
 ],
 "metadata": {
  "kernelspec": {
   "display_name": "Python 3",
   "language": "python",
   "name": "python3"
  },
  "language_info": {
   "codemirror_mode": {
    "name": "ipython",
    "version": 3
   },
   "file_extension": ".py",
   "mimetype": "text/x-python",
   "name": "python",
   "nbconvert_exporter": "python",
   "pygments_lexer": "ipython3",
   "version": "3.7.4"
  }
 },
 "nbformat": 4,
 "nbformat_minor": 2
}
