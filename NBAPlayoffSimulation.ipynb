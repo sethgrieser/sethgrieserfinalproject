{
 "cells": [
  {
   "cell_type": "code",
   "execution_count": 1,
   "metadata": {},
   "outputs": [
    {
     "ename": "ModuleNotFoundError",
     "evalue": "No module named 'NBAMatchData'",
     "output_type": "error",
     "traceback": [
      "\u001b[1;31m---------------------------------------------------------------------------\u001b[0m",
      "\u001b[1;31mModuleNotFoundError\u001b[0m                       Traceback (most recent call last)",
      "\u001b[1;32m<ipython-input-1-8ae896c9785b>\u001b[0m in \u001b[0;36m<module>\u001b[1;34m\u001b[0m\n\u001b[0;32m     17\u001b[0m \u001b[1;32mfrom\u001b[0m \u001b[0mpylab\u001b[0m \u001b[1;32mimport\u001b[0m \u001b[1;33m*\u001b[0m\u001b[1;33m\u001b[0m\u001b[1;33m\u001b[0m\u001b[0m\n\u001b[0;32m     18\u001b[0m \u001b[1;32mfrom\u001b[0m \u001b[0mscipy\u001b[0m\u001b[1;33m.\u001b[0m\u001b[0mintegrate\u001b[0m \u001b[1;32mimport\u001b[0m \u001b[0modeint\u001b[0m\u001b[1;33m\u001b[0m\u001b[1;33m\u001b[0m\u001b[0m\n\u001b[1;32m---> 19\u001b[1;33m \u001b[1;32mimport\u001b[0m \u001b[0mNBAMatchData\u001b[0m\u001b[1;33m.\u001b[0m\u001b[0mpy\u001b[0m\u001b[1;33m\u001b[0m\u001b[1;33m\u001b[0m\u001b[0m\n\u001b[0m\u001b[0;32m     20\u001b[0m \u001b[1;33m\u001b[0m\u001b[0m\n\u001b[0;32m     21\u001b[0m \u001b[1;33m\u001b[0m\u001b[0m\n",
      "\u001b[1;31mModuleNotFoundError\u001b[0m: No module named 'NBAMatchData'"
     ]
    }
   ],
   "source": [
    "# NBAPlayoffSimulation.py\n",
    "# This program will run the seven game playoff series between every team\n",
    "# Uisng team data from 2019-2020 NBA season\n",
    "# This team will take the data from the NBA MatchupData pyhton file\n",
    "# That can be used to simulate the entire 2020 NBA postseason\n",
    "# Use of NBA data permitted by fair use, being for educational purposes\n",
    "# Seth Grieser \n",
    "# SES350 Final Project\n",
    "\n",
    "import numpy as np\n",
    "import pandas as pd \n",
    "import random as rnd \n",
    "import matplotlib.pyplot as plt\n",
    "from scipy import integrate\n",
    "from scipy import optimize \n",
    "from scipy import ndimage\n",
    "from pylab import *\n",
    "from scipy.integrate import odeint\n",
    "import NBAMatchData.py\n",
    "\n",
    "\n",
    "def gameSim():\n",
    "    LALScore = (rnd.gauss(lalmeanpts,lalmeanpts))\n",
    "    MEMScore = (rnd.gauss(memmeanpts,mempts))\n",
    "    if int(round(LALScore)) > int(round(MEMScore)):\n",
    "        return 1\n",
    "    elif int(round(LALScore)) < int(round(MEMScore)):\n",
    "        return -1\n",
    "    else: return 0\n",
    "\n",
    "def gamesSim(ns):\n",
    "    gamesout = []\n",
    "    team1win = 0\n",
    "    team2win = 0\n",
    "    tie = 0\n",
    "    for i in range(ns):\n",
    "        gm = gameSim()\n",
    "        gamesout.append(gm)\n",
    "        if gm == 1:\n",
    "            team1win +=1 \n",
    "        elif gm == -1:\n",
    "            team2win +=1\n",
    "        else: tie +=1 \n",
    "    print('LAL Win ', team1win/(team1win+team2win+tie),'%')\n",
    "    print('MEM Win ', team2win/(team1win+team2win+tie),'%')\n",
    "    print('Tie ', tie/(team1win+team2win+tie), '%')\n",
    "    return gamesout\n",
    "\n",
    "gamesSim(7)"
   ]
  },
  {
   "cell_type": "code",
   "execution_count": null,
   "metadata": {},
   "outputs": [],
   "source": []
  }
 ],
 "metadata": {
  "kernelspec": {
   "display_name": "Python 3",
   "language": "python",
   "name": "python3"
  },
  "language_info": {
   "codemirror_mode": {
    "name": "ipython",
    "version": 3
   },
   "file_extension": ".py",
   "mimetype": "text/x-python",
   "name": "python",
   "nbconvert_exporter": "python",
   "pygments_lexer": "ipython3",
   "version": "3.7.4"
  }
 },
 "nbformat": 4,
 "nbformat_minor": 2
}
